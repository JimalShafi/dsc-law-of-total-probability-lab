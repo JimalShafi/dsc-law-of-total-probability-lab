{
 "cells": [
  {
   "cell_type": "markdown",
   "metadata": {},
   "source": [
    "# Partitioning and Law of Total Probability - Lab\n",
    "\n",
    "## Introduction \n",
    "In this lab, you'll practice your knowledge of the law of total probability. In probability theory, the law (or formula) of total probability is a fundamental rule relating **marginal probabilities** to **conditional probabilities**.\n",
    "\n",
    "## Objectives\n",
    "\n",
    "You will be able to:\n",
    "\n",
    "* Differentiate between independent and dependent events\n",
    "* Perform partitioning based on known and unknown probabilities to solve a problem"
   ]
  },
  {
   "cell_type": "markdown",
   "metadata": {},
   "source": [
    "## Exercise 1\n",
    "Imagine you have two hats: one has 4 red balls and 6 green balls, the other has 6 red and 4 green. We toss a fair coin, if heads, you will pick a random ball from the first hat, if tails you will pick one from the second hat. \n",
    "\n",
    "What is the probability of getting a red ball?"
   ]
  },
  {
   "cell_type": "code",
   "execution_count": 1,
   "metadata": {},
   "outputs": [
    {
     "name": "stdout",
     "output_type": "stream",
     "text": [
      "Probability of picking a red ball (P(R)): 0.5\n"
     ]
    }
   ],
   "source": [
    "# Your code here\n",
    "# Define the probabilities and counts\n",
    "P_H = 0.5  # Probability of coin landing heads (pick from Hat 1)\n",
    "P_T = 0.5  # Probability of coin landing tails (pick from Hat 2)\n",
    "\n",
    "# Hat 1: 4 red balls and 6 green balls\n",
    "P_R_given_H = 4 / 10  # Probability of picking a red ball from Hat 1\n",
    "\n",
    "# Hat 2: 6 red balls and 4 green balls\n",
    "P_R_given_T = 6 / 10  # Probability of picking a red ball from Hat 2\n",
    "\n",
    "# Applying the law of total probability\n",
    "P_R = P_R_given_H * P_H + P_R_given_T * P_T\n",
    "\n",
    "print(\"Probability of picking a red ball (P(R)):\", P_R)\n"
   ]
  },
  {
   "cell_type": "markdown",
   "metadata": {},
   "source": [
    "## Exercise 2\n",
    "In games where at least one goal is made, a soccer team wins 60% of its games when it scores the first goal, and 10% of its games when the opposing team \n",
    "scores first. \n",
    "\n",
    "If the team scores the first goal about 30% of the time, what fraction of the games does it win?"
   ]
  },
  {
   "cell_type": "code",
   "execution_count": 2,
   "metadata": {},
   "outputs": [
    {
     "name": "stdout",
     "output_type": "stream",
     "text": [
      "Fraction of games the team wins: 0.25\n"
     ]
    }
   ],
   "source": [
    "# Your code here\n",
    "# Given probabilities and conditional probabilities\n",
    "P_team_first = 0.3\n",
    "P_opponent_first = 0.7\n",
    "P_win_given_team_first = 0.6\n",
    "P_win_given_opponent_first = 0.1\n",
    "\n",
    "# Applying the law of total probability\n",
    "P_win = P_win_given_team_first * P_team_first + P_win_given_opponent_first * P_opponent_first\n",
    "\n",
    "print(\"Fraction of games the team wins:\", P_win)\n"
   ]
  },
  {
   "cell_type": "markdown",
   "metadata": {},
   "source": [
    "## Exercise 3"
   ]
  },
  {
   "cell_type": "markdown",
   "metadata": {},
   "source": [
    "In Europe, except for regular gas, cars often run on diesel as well. At a gas station in Paris; \n",
    "\n",
    "\n",
    "* 40% of the customers fill up with diesel (event G1) \n",
    "* 35% with gas \"Super 95\" (event G2)\n",
    "* 25% with gas \"Super 98\" (event G3). \n",
    "\n",
    "\n",
    "* 30% of the customers who buy diesel fill their tank completely (event F). \n",
    "* For \"Super 95\" and \"Super 98\", these numbers are  60% and 50%, respectively.\n",
    "\n",
    "\n",
    "- Compute the probability that the next customer completely fills their tank and buys Super 95. \n",
    "- Compute the probability that the next customer completely fills their tank\n",
    "- Given that the next customer fills their tank completely, compute the probability that they bought diesel. \n",
    "\n",
    "Hint: Consult the theorems for conditional probability, check for dependence or independence of events"
   ]
  },
  {
   "cell_type": "code",
   "execution_count": 3,
   "metadata": {},
   "outputs": [
    {
     "name": "stdout",
     "output_type": "stream",
     "text": [
      "Probability that the next customer completely fills their tank and buys Super 95: 0.21\n",
      "Probability that the next customer completely fills their tank: 0.45499999999999996\n",
      "Probability that the next customer bought diesel given they filled their tank completely: 0.26373626373626374\n"
     ]
    }
   ],
   "source": [
    "# Your code here\n",
    "# Given probabilities and conditional probabilities\n",
    "P_G1 = 0.4\n",
    "P_G2 = 0.35\n",
    "P_G3 = 0.25\n",
    "\n",
    "P_F_given_G1 = 0.3\n",
    "P_F_given_G2 = 0.6\n",
    "P_F_given_G3 = 0.5\n",
    "\n",
    "# Compute probabilities\n",
    "P_F_and_G2 = P_F_given_G2 * P_G2\n",
    "P_F = P_F_given_G1 * P_G1 + P_F_given_G2 * P_G2 + P_F_given_G3 * P_G3\n",
    "P_G1_given_F = P_F_given_G1 * P_G1 / P_F\n",
    "\n",
    "# Output results\n",
    "print(\"Probability that the next customer completely fills their tank and buys Super 95:\", P_F_and_G2)\n",
    "print(\"Probability that the next customer completely fills their tank:\", P_F)\n",
    "print(\"Probability that the next customer bought diesel given they filled their tank completely:\", P_G1_given_F)\n"
   ]
  },
  {
   "cell_type": "markdown",
   "metadata": {},
   "source": [
    "## Exercise 4"
   ]
  },
  {
   "cell_type": "markdown",
   "metadata": {},
   "source": [
    "United Airlines operates flights from JFK to Amsterdam, to Brussels, and to Copenhagen. As you may know, flights are overbooked fairly often. Let's denote the probability of the flight to Amsterdam being overbooked equal to 40%, the probability of the flight to Brussels being overbooked equal to 25%, and the probability of the flight to Copenhagen being overbooked equal to 35%. You can assume that these events of overbooking are independent events."
   ]
  },
  {
   "cell_type": "markdown",
   "metadata": {},
   "source": [
    "- Compute the probability that all the flights are overbooked.\n",
    "- Compute the probability of having at least one flight which is not overbooked.\n",
    "- Compute the probability that exactly one flight is overbooked."
   ]
  },
  {
   "cell_type": "code",
   "execution_count": 5,
   "metadata": {},
   "outputs": [
    {
     "name": "stdout",
     "output_type": "stream",
     "text": [
      "Probability that all flights are overbooked: 0.034999999999999996\n",
      "Probability of having at least one flight which is not overbooked: 0.965\n",
      "Probability that exactly one flight is overbooked: 0.45\n"
     ]
    }
   ],
   "source": [
    "# Your code here\n",
    "# Given probabilities\n",
    "P_amsterdam_overbooked = 0.4\n",
    "P_brussels_overbooked = 0.25\n",
    "P_copenhagen_overbooked = 0.35\n",
    "\n",
    "# 1. Probability that all flights are overbooked (assuming independence)\n",
    "P_all_overbooked = P_amsterdam_overbooked * P_brussels_overbooked * P_copenhagen_overbooked\n",
    "\n",
    "# 2. Probability of having at least one flight which is not overbooked\n",
    "P_at_least_one_not_overbooked = 1 - P_all_overbooked\n",
    "\n",
    "# 3. Probability that exactly one flight is overbooked\n",
    "P_exactly_one_overbooked = (P_amsterdam_overbooked * (1 - P_brussels_overbooked) * (1 - P_copenhagen_overbooked)\n",
    "                            + (1 - P_amsterdam_overbooked) * P_brussels_overbooked * (1 - P_copenhagen_overbooked)\n",
    "                            + (1 - P_amsterdam_overbooked) * (1 - P_brussels_overbooked) * P_copenhagen_overbooked)\n",
    "\n",
    "# Output results\n",
    "print(\"Probability that all flights are overbooked:\", P_all_overbooked)\n",
    "print(\"Probability of having at least one flight which is not overbooked:\", P_at_least_one_not_overbooked)\n",
    "print(\"Probability that exactly one flight is overbooked:\", P_exactly_one_overbooked)\n",
    "\n"
   ]
  },
  {
   "cell_type": "markdown",
   "metadata": {},
   "source": [
    "## Exercise 5\n",
    "You have three bags that each contain 100 marbles:\n",
    "\n",
    "- Bag 1 has 75 red and 25 blue marbles;\n",
    "- Bag 2 has 60 red and 40 blue marbles;\n",
    "- Bag 3 has 45 red and 55 blue marbles.\n",
    "\n",
    "You choose one of the bags at random and then pick a marble from the chosen bag, also at random. \n",
    "\n",
    "What is the probability that the chosen marble is red?\n"
   ]
  },
  {
   "cell_type": "code",
   "execution_count": 6,
   "metadata": {},
   "outputs": [
    {
     "name": "stdout",
     "output_type": "stream",
     "text": [
      "Probability that the chosen marble is red: 0.6\n"
     ]
    }
   ],
   "source": [
    "# Your code here\n",
    "# Given probabilities\n",
    "P_bag1 = 1/3\n",
    "P_bag2 = 1/3\n",
    "P_bag3 = 1/3\n",
    "\n",
    "# Probabilities of picking a red marble from each bag\n",
    "P_red_bag1 = 75 / 100\n",
    "P_red_bag2 = 60 / 100\n",
    "P_red_bag3 = 45 / 100\n",
    "\n",
    "# Calculate the probability of picking a red marble overall\n",
    "P_red = P_red_bag1 * P_bag1 + P_red_bag2 * P_bag2 + P_red_bag3 * P_bag3\n",
    "\n",
    "# Output the result\n",
    "print(\"Probability that the chosen marble is red:\", P_red)\n"
   ]
  },
  {
   "cell_type": "markdown",
   "metadata": {},
   "source": [
    "## Summary \n",
    "\n",
    "In this lab, you practiced conditional probability and its theorem with some simple problems. The key takeaway from this lab is to be able to identify random events as dependent or independent and calculating the probability of their occurrence using appropriate methods. Next, you'll take this knowledge a step further and run simulations with conditional and total probability. "
   ]
  }
 ],
 "metadata": {
  "kernelspec": {
   "display_name": "Python 3 (ipykernel)",
   "language": "python",
   "name": "python3"
  },
  "language_info": {
   "codemirror_mode": {
    "name": "ipython",
    "version": 3
   },
   "file_extension": ".py",
   "mimetype": "text/x-python",
   "name": "python",
   "nbconvert_exporter": "python",
   "pygments_lexer": "ipython3",
   "version": "3.8.16"
  },
  "toc": {
   "base_numbering": 1,
   "nav_menu": {},
   "number_sections": true,
   "sideBar": true,
   "skip_h1_title": false,
   "title_cell": "Table of Contents",
   "title_sidebar": "Contents",
   "toc_cell": false,
   "toc_position": {},
   "toc_section_display": true,
   "toc_window_display": false
  }
 },
 "nbformat": 4,
 "nbformat_minor": 4
}
